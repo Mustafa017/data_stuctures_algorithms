{
 "cells": [
  {
   "cell_type": "code",
   "execution_count": 1,
   "metadata": {},
   "outputs": [],
   "source": [
    "class Node(object):\n",
    "    def __init__(self, value=None):\n",
    "        self.value = value\n",
    "        self.left = None\n",
    "        self.right = None\n",
    "\n",
    "    def get_value(self):\n",
    "        return self.value\n",
    "\n",
    "    def set_value(self, value):\n",
    "        self.value = value\n",
    "\n",
    "    def set_left_child(self, node):\n",
    "        self.left = node\n",
    "\n",
    "    def set_right_child(self, node):\n",
    "        self.right = node\n",
    "\n",
    "    def get_left_child(self):\n",
    "        return self.left\n",
    "\n",
    "    def get_right_child(self):\n",
    "        return self.right\n",
    "\n",
    "    def has_left_child(self):\n",
    "        return self.left != None\n",
    "\n",
    "    def has_right_child(self):\n",
    "        return self.right != None\n",
    "\n",
    "    def __repr__(self):\n",
    "        return f'Node({self.get_value()})'\n",
    "        \n",
    "    def __str__(self):\n",
    "        return f'Node({self.get_value()})'"
   ]
  },
  {
   "cell_type": "code",
   "execution_count": 2,
   "metadata": {},
   "outputs": [],
   "source": [
    "class Tree(object):\n",
    "    def __init__(self, node=None):\n",
    "        self.root = node\n",
    "\n",
    "    def get_root(self):\n",
    "        return self.root"
   ]
  },
  {
   "cell_type": "code",
   "execution_count": 3,
   "metadata": {},
   "outputs": [],
   "source": [
    "node0 = Node('apples')\n",
    "node1 = Node('bananas')\n",
    "node2 = Node('oranges')\n",
    "node3 = Node('cherry')"
   ]
  },
  {
   "cell_type": "code",
   "execution_count": 4,
   "metadata": {},
   "outputs": [
    {
     "data": {
      "text/plain": [
       "Node(apples)"
      ]
     },
     "execution_count": 4,
     "metadata": {},
     "output_type": "execute_result"
    }
   ],
   "source": [
    "node0"
   ]
  },
  {
   "cell_type": "code",
   "execution_count": 5,
   "metadata": {},
   "outputs": [
    {
     "name": "stdout",
     "output_type": "stream",
     "text": [
      "\n",
      "    root : apples\n",
      "    node : Node(apples)\n",
      "\n"
     ]
    }
   ],
   "source": [
    "dfs = Tree(node0)\n",
    "print(f\"\"\"\n",
    "    root : {dfs.root.value}\n",
    "    node : {dfs.get_root()}\n",
    "\"\"\")"
   ]
  },
  {
   "cell_type": "markdown",
   "metadata": {},
   "source": [
    "### create a stack"
   ]
  },
  {
   "cell_type": "code",
   "execution_count": 6,
   "metadata": {},
   "outputs": [],
   "source": [
    "class Stack:\n",
    "    def __init__(self):\n",
    "        self.list = list()\n",
    "\n",
    "    def push(self, value):\n",
    "        self.list.append(value)\n",
    "\n",
    "    def pop(self):\n",
    "        return self.list.pop()\n",
    "\n",
    "    def top(self):\n",
    "        if len(self.list) > 0:\n",
    "            return self.list[-1]\n",
    "        else:\n",
    "            return None\n",
    "\n",
    "    def is_empty(self):\n",
    "        return len(self.list) == 0\n",
    "\n",
    "    def __repr__(self):\n",
    "        if len(self.list) > 0:\n",
    "            s = \"==== Top of stack =====\\n\"\n",
    "            s += \"\\n-----------\\n\".join([str(item) for item in self.list[::-1]])\n",
    "            s += \"\\n === Bottom of stack ===\\n\"\n",
    "            return s\n",
    "        else:\n",
    "            return  \"<=== Stack is empty ===>\"\n"
   ]
  },
  {
   "cell_type": "code",
   "execution_count": 7,
   "metadata": {},
   "outputs": [
    {
     "data": {
      "text/plain": [
       "==== Top of stack =====\n",
       "dates\n",
       "-----------\n",
       "oranges\n",
       "-----------\n",
       "bananas\n",
       "-----------\n",
       "apples\n",
       " === Bottom of stack ==="
      ]
     },
     "execution_count": 7,
     "metadata": {},
     "output_type": "execute_result"
    }
   ],
   "source": [
    "stack = Stack()\n",
    "stack.push('apples')\n",
    "stack.push('bananas')\n",
    "stack.push('oranges')\n",
    "stack.push('dates')\n",
    "stack"
   ]
  },
  {
   "cell_type": "code",
   "execution_count": 8,
   "metadata": {},
   "outputs": [
    {
     "data": {
      "text/plain": [
       "'dates'"
      ]
     },
     "execution_count": 8,
     "metadata": {},
     "output_type": "execute_result"
    }
   ],
   "source": [
    "stack.top()"
   ]
  },
  {
   "cell_type": "code",
   "execution_count": 9,
   "metadata": {},
   "outputs": [],
   "source": [
    "dfs = Tree(node0)\n",
    "dfs.get_root().set_left_child(node1)\n",
    "dfs.get_root().set_right_child(node2)\n",
    "dfs.get_root().get_left_child().set_left_child(node3)"
   ]
  },
  {
   "cell_type": "code",
   "execution_count": 10,
   "metadata": {},
   "outputs": [
    {
     "name": "stdout",
     "output_type": "stream",
     "text": [
      "['apples']\n",
      "==== Top of stack =====\n",
      "Node(apples)\n",
      " === Bottom of stack ===\n",
      "\n"
     ]
    }
   ],
   "source": [
    "visited_nodes = []\n",
    "stack = Stack()\n",
    "\n",
    "if dfs.get_root():\n",
    "    root = dfs.get_root()\n",
    "    visited_nodes.append(root.value)\n",
    "    stack.push(root)\n",
    "print(visited_nodes)\n",
    "print(stack)"
   ]
  },
  {
   "cell_type": "code",
   "execution_count": 11,
   "metadata": {},
   "outputs": [
    {
     "name": "stdout",
     "output_type": "stream",
     "text": [
      "Does root have a left child ? True\n",
      "['apples', 'bananas']\n",
      "==== Top of stack =====\n",
      "Node(bananas)\n",
      "-----------\n",
      "Node(apples)\n",
      " === Bottom of stack ===\n",
      "\n"
     ]
    }
   ],
   "source": [
    "print(f\"Does root have a left child ? {dfs.get_root().has_left_child()}\")\n",
    "\n",
    "leftChild = dfs.get_root().get_left_child()\n",
    "\n",
    "if leftChild:\n",
    "    visited_nodes.append(leftChild.value)\n",
    "    stack.push(leftChild)\n",
    "print(visited_nodes)\n",
    "print(stack)"
   ]
  },
  {
   "cell_type": "code",
   "execution_count": 12,
   "metadata": {},
   "outputs": [
    {
     "name": "stdout",
     "output_type": "stream",
     "text": [
      "Does bananas have a left child ? True\n",
      "['apples', 'bananas', 'cherry']\n",
      "==== Top of stack =====\n",
      "Node(cherry)\n",
      "-----------\n",
      "Node(bananas)\n",
      "-----------\n",
      "Node(apples)\n",
      " === Bottom of stack ===\n",
      "\n"
     ]
    }
   ],
   "source": [
    "print(f\"Does bananas have a left child ? {dfs.get_root().get_left_child().has_left_child()}\")\n",
    "\n",
    "leftChild = dfs.get_root().get_left_child().get_left_child()\n",
    "\n",
    "if leftChild:\n",
    "    visited_nodes.append(leftChild.value)\n",
    "    stack.push(leftChild)\n",
    "print(visited_nodes)\n",
    "print(stack)"
   ]
  },
  {
   "cell_type": "code",
   "execution_count": 13,
   "metadata": {},
   "outputs": [
    {
     "name": "stdout",
     "output_type": "stream",
     "text": [
      "Does cherry have a left child ? False\n",
      "Does cherry have a right child ? False\n",
      "==== Top of stack =====\n",
      "Node(bananas)\n",
      "-----------\n",
      "Node(apples)\n",
      " === Bottom of stack ===\n",
      "\n"
     ]
    }
   ],
   "source": [
    "print(f\"Does cherry have a left child ? {dfs.get_root().get_left_child().get_left_child().has_left_child()}\")\n",
    "print(f\"Does cherry have a right child ? {dfs.get_root().get_left_child().get_left_child().has_right_child()}\")\n",
    "\n",
    "leftChild = dfs.get_root().get_left_child().get_left_child().has_left_child()\n",
    "rightChild = dfs.get_root().get_left_child().get_left_child().has_right_child()\n",
    "\n",
    "if not leftChild and not rightChild:\n",
    "    stack.pop()\n",
    "print(stack)"
   ]
  },
  {
   "cell_type": "code",
   "execution_count": 14,
   "metadata": {},
   "outputs": [
    {
     "name": "stdout",
     "output_type": "stream",
     "text": [
      "Does bananas have a right child ? False\n",
      "==== Top of stack =====\n",
      "Node(apples)\n",
      " === Bottom of stack ===\n",
      "\n"
     ]
    }
   ],
   "source": [
    "node = stack.top()\n",
    "print(f\"Does bananas have a right child ? {dfs.get_root().get_left_child().has_right_child()}\")\n",
    "\n",
    "rightChild = dfs.get_root().get_left_child().has_right_child()\n",
    "\n",
    "if not rightChild:\n",
    "    stack.pop()\n",
    "print(stack)\n"
   ]
  },
  {
   "cell_type": "code",
   "execution_count": 15,
   "metadata": {},
   "outputs": [
    {
     "name": "stdout",
     "output_type": "stream",
     "text": [
      "Does apples have a right child ? True\n",
      "['apples', 'bananas', 'cherry', 'oranges']\n",
      "==== Top of stack =====\n",
      "Node(oranges)\n",
      "-----------\n",
      "Node(apples)\n",
      " === Bottom of stack ===\n",
      "\n"
     ]
    }
   ],
   "source": [
    "node = stack.top()\n",
    "print(f\"Does apples have a right child ? {dfs.get_root().has_right_child()}\")\n",
    "\n",
    "rightChild = dfs.get_root().get_right_child()\n",
    "if rightChild:\n",
    "    visited_nodes.append(rightChild.value)\n",
    "    stack.push(rightChild)\n",
    "print(visited_nodes)\n",
    "print(stack)"
   ]
  },
  {
   "cell_type": "code",
   "execution_count": 16,
   "metadata": {},
   "outputs": [
    {
     "name": "stdout",
     "output_type": "stream",
     "text": [
      "Does oranges have a left child ? False\n",
      "Does oranges have a right child ? False\n",
      "==== Top of stack =====\n",
      "Node(apples)\n",
      " === Bottom of stack ===\n",
      "\n"
     ]
    }
   ],
   "source": [
    "print(f\"Does oranges have a left child ? {dfs.get_root().get_right_child().has_left_child()}\")\n",
    "print(f\"Does oranges have a right child ? {dfs.get_root().get_right_child().has_right_child()}\")\n",
    "\n",
    "leftChild = dfs.get_root().get_left_child().get_left_child().has_left_child()\n",
    "rightChild = dfs.get_root().get_left_child().get_left_child().has_right_child()\n",
    "\n",
    "if not leftChild and not rightChild:\n",
    "    stack.pop()\n",
    "print(stack)"
   ]
  },
  {
   "cell_type": "code",
   "execution_count": 17,
   "metadata": {},
   "outputs": [
    {
     "name": "stdout",
     "output_type": "stream",
     "text": [
      "['apples', 'bananas', 'cherry', 'oranges']\n"
     ]
    }
   ],
   "source": [
    "print(visited_nodes)"
   ]
  },
  {
   "cell_type": "code",
   "execution_count": 18,
   "metadata": {},
   "outputs": [],
   "source": [
    "def pre_order(tree):\n",
    "    visited = []\n",
    "    stack = Stack()\n",
    "    node = tree.get_root()\n",
    "    visited.append(node.get_value())\n",
    "    stack.push(node)\n",
    "    print(f'start={node} stack_empty={stack.is_empty()}')\n",
    "    count = 0\n",
    "    loop_limit = 7\n",
    "\n",
    "    while (node and count < loop_limit):\n",
    "        print(f'start={node} stack_empty={stack.is_empty()}')\n",
    "        \n",
    "        if node.has_left_child():\n",
    "            node = node.get_left_child()\n",
    "            visited.append(node.get_value())\n",
    "            stack.push(node)\n",
    "            \n",
    "        elif node.has_right_child():\n",
    "            node = node.get_right_child()\n",
    "            visited.append(node.get_value())\n",
    "            stack.push(node)\n",
    "        else:\n",
    "            stack.pop()\n",
    "            if not stack.is_empty():\n",
    "                node = stack.top()\n",
    "            else:\n",
    "                node = None\n",
    "        count += 1\n",
    "        \n",
    "\n",
    "        print(f'count={count}')\n",
    "        print(stack)\n",
    "        print(f'end={node}')\n",
    "    # print(stack)\n",
    "    return visited"
   ]
  },
  {
   "cell_type": "code",
   "execution_count": 19,
   "metadata": {},
   "outputs": [
    {
     "name": "stdout",
     "output_type": "stream",
     "text": [
      "start=Node(apples) stack_empty=False\n",
      "start=Node(apples) stack_empty=False\n",
      "count=1\n",
      "==== Top of stack =====\n",
      "Node(bananas)\n",
      "-----------\n",
      "Node(apples)\n",
      " === Bottom of stack ===\n",
      "\n",
      "end=Node(bananas)\n",
      "start=Node(bananas) stack_empty=False\n",
      "count=2\n",
      "==== Top of stack =====\n",
      "Node(cherry)\n",
      "-----------\n",
      "Node(bananas)\n",
      "-----------\n",
      "Node(apples)\n",
      " === Bottom of stack ===\n",
      "\n",
      "end=Node(cherry)\n",
      "start=Node(cherry) stack_empty=False\n",
      "count=3\n",
      "==== Top of stack =====\n",
      "Node(bananas)\n",
      "-----------\n",
      "Node(apples)\n",
      " === Bottom of stack ===\n",
      "\n",
      "end=Node(bananas)\n",
      "start=Node(bananas) stack_empty=False\n",
      "count=4\n",
      "==== Top of stack =====\n",
      "Node(cherry)\n",
      "-----------\n",
      "Node(bananas)\n",
      "-----------\n",
      "Node(apples)\n",
      " === Bottom of stack ===\n",
      "\n",
      "end=Node(cherry)\n",
      "start=Node(cherry) stack_empty=False\n",
      "count=5\n",
      "==== Top of stack =====\n",
      "Node(bananas)\n",
      "-----------\n",
      "Node(apples)\n",
      " === Bottom of stack ===\n",
      "\n",
      "end=Node(bananas)\n",
      "start=Node(bananas) stack_empty=False\n",
      "count=6\n",
      "==== Top of stack =====\n",
      "Node(cherry)\n",
      "-----------\n",
      "Node(bananas)\n",
      "-----------\n",
      "Node(apples)\n",
      " === Bottom of stack ===\n",
      "\n",
      "end=Node(cherry)\n",
      "start=Node(cherry) stack_empty=False\n",
      "count=7\n",
      "==== Top of stack =====\n",
      "Node(bananas)\n",
      "-----------\n",
      "Node(apples)\n",
      " === Bottom of stack ===\n",
      "\n",
      "end=Node(bananas)\n",
      "['apples', 'bananas', 'cherry', 'cherry', 'cherry']\n"
     ]
    }
   ],
   "source": [
    "\"\"\"\n",
    "Every time we pop cherry and return to banana,\n",
    "we'll end up pushing cherry back on to the stack\n",
    "and visiting banana.\n",
    "\"\"\"\n",
    "print(pre_order(dfs))"
   ]
  },
  {
   "cell_type": "markdown",
   "metadata": {},
   "source": [
    "### pre-order traversal using a stack, tracking state"
   ]
  },
  {
   "cell_type": "code",
   "execution_count": 20,
   "metadata": {},
   "outputs": [],
   "source": [
    "class State(object):\n",
    "    def __init__(self, node):\n",
    "        self.node = node\n",
    "        self.visited_left = False\n",
    "        self.visited_right = False\n",
    "\n",
    "    def get_node(self):\n",
    "        return self.node\n",
    "\n",
    "    def get_visited_left(self):\n",
    "        return self.visited_left\n",
    "\n",
    "    def get_visited_right(self):\n",
    "        return self.visited_right\n",
    "\n",
    "    def set_visited_left(self):\n",
    "        self.visited_left = True\n",
    "\n",
    "    def set_visited_right(self):\n",
    "        self.visited_right = True\n",
    "\n",
    "    def __repr__(self):\n",
    "        s = f\"\"\"\n",
    "        {self.node}\n",
    "        visited_left : {self.visited_left}\n",
    "        visited_right : {self.visited_right}\n",
    "        \"\"\"\n",
    "        return s"
   ]
  },
  {
   "cell_type": "code",
   "execution_count": 21,
   "metadata": {},
   "outputs": [
    {
     "data": {
      "text/plain": [
       "\n",
       "        Node(banana)\n",
       "        visited_left : False\n",
       "        visited_right : False\n",
       "        "
      ]
     },
     "execution_count": 21,
     "metadata": {},
     "output_type": "execute_result"
    }
   ],
   "source": [
    "state = State(Node(\"banana\"))\n",
    "state"
   ]
  },
  {
   "cell_type": "code",
   "execution_count": 22,
   "metadata": {},
   "outputs": [],
   "source": [
    "def pre_order_with_state(tree, debug=False):\n",
    "    visited = []\n",
    "    stack = Stack()\n",
    "    node = tree.get_root()\n",
    "    visited.append(node.get_value())\n",
    "    state = State(node)\n",
    "    stack.push(state)\n",
    "    count = 0\n",
    "    \n",
    "    while node:\n",
    "        if debug:\n",
    "            print(f\"\"\"\n",
    "            count={count}\n",
    "            start={node} \n",
    "            stack={stack}\n",
    "            \"\"\")\n",
    "        count += 1\n",
    "\n",
    "        if node.has_left_child() and not state.get_visited_left():\n",
    "            state.set_visited_left()\n",
    "            node = node.get_left_child()\n",
    "            state = State(node)\n",
    "            visited.append(node.get_value())\n",
    "            stack.push(state)\n",
    "            \n",
    "        elif node.has_right_child() and not state.get_visited_right():\n",
    "            state.set_visited_right()\n",
    "            node = node.get_right_child()\n",
    "            state = State(node)\n",
    "            visited.append(node.get_value())\n",
    "            stack.push(state)\n",
    "        else:\n",
    "            stack.pop()\n",
    "            if not stack.is_empty():\n",
    "                state = stack.top()\n",
    "                node = state.get_node()\n",
    "            else:\n",
    "                node = None\n",
    "        \n",
    "    return visited"
   ]
  },
  {
   "cell_type": "code",
   "execution_count": 23,
   "metadata": {},
   "outputs": [
    {
     "name": "stdout",
     "output_type": "stream",
     "text": [
      "\n",
      "            count=0\n",
      "            start=Node(apples) \n",
      "            stack===== Top of stack =====\n",
      "\n",
      "        Node(apples)\n",
      "        visited_left : False\n",
      "        visited_right : False\n",
      "        \n",
      " === Bottom of stack ===\n",
      "\n",
      "            \n",
      "\n",
      "            count=1\n",
      "            start=Node(bananas) \n",
      "            stack===== Top of stack =====\n",
      "\n",
      "        Node(bananas)\n",
      "        visited_left : False\n",
      "        visited_right : False\n",
      "        \n",
      "-----------\n",
      "\n",
      "        Node(apples)\n",
      "        visited_left : True\n",
      "        visited_right : False\n",
      "        \n",
      " === Bottom of stack ===\n",
      "\n",
      "            \n",
      "\n",
      "            count=2\n",
      "            start=Node(cherry) \n",
      "            stack===== Top of stack =====\n",
      "\n",
      "        Node(cherry)\n",
      "        visited_left : False\n",
      "        visited_right : False\n",
      "        \n",
      "-----------\n",
      "\n",
      "        Node(bananas)\n",
      "        visited_left : True\n",
      "        visited_right : False\n",
      "        \n",
      "-----------\n",
      "\n",
      "        Node(apples)\n",
      "        visited_left : True\n",
      "        visited_right : False\n",
      "        \n",
      " === Bottom of stack ===\n",
      "\n",
      "            \n",
      "\n",
      "            count=3\n",
      "            start=Node(bananas) \n",
      "            stack===== Top of stack =====\n",
      "\n",
      "        Node(bananas)\n",
      "        visited_left : True\n",
      "        visited_right : False\n",
      "        \n",
      "-----------\n",
      "\n",
      "        Node(apples)\n",
      "        visited_left : True\n",
      "        visited_right : False\n",
      "        \n",
      " === Bottom of stack ===\n",
      "\n",
      "            \n",
      "\n",
      "            count=4\n",
      "            start=Node(apples) \n",
      "            stack===== Top of stack =====\n",
      "\n",
      "        Node(apples)\n",
      "        visited_left : True\n",
      "        visited_right : False\n",
      "        \n",
      " === Bottom of stack ===\n",
      "\n",
      "            \n",
      "\n",
      "            count=5\n",
      "            start=Node(oranges) \n",
      "            stack===== Top of stack =====\n",
      "\n",
      "        Node(oranges)\n",
      "        visited_left : False\n",
      "        visited_right : False\n",
      "        \n",
      "-----------\n",
      "\n",
      "        Node(apples)\n",
      "        visited_left : True\n",
      "        visited_right : True\n",
      "        \n",
      " === Bottom of stack ===\n",
      "\n",
      "            \n",
      "\n",
      "            count=6\n",
      "            start=Node(apples) \n",
      "            stack===== Top of stack =====\n",
      "\n",
      "        Node(apples)\n",
      "        visited_left : True\n",
      "        visited_right : True\n",
      "        \n",
      " === Bottom of stack ===\n",
      "\n",
      "            \n",
      "['apples', 'bananas', 'cherry', 'oranges']\n"
     ]
    }
   ],
   "source": [
    "print(pre_order_with_state(dfs, debug=True))"
   ]
  },
  {
   "cell_type": "markdown",
   "metadata": {},
   "source": [
    "### Pre-Order traversal with recursion"
   ]
  },
  {
   "cell_type": "code",
   "execution_count": 24,
   "metadata": {},
   "outputs": [],
   "source": [
    "def pre_order_with_recursion(tree):\n",
    "    visited = []\n",
    "    root = tree.get_root()\n",
    "\n",
    "    def traverse(node):\n",
    "        if node:\n",
    "            # visit node\n",
    "            visited.append(node.get_value())\n",
    "\n",
    "            # traverse left\n",
    "            traverse(node.get_left_child())\n",
    "\n",
    "            # traverse right\n",
    "            traverse(node.get_right_child())\n",
    "    traverse(root)\n",
    "    return visited"
   ]
  },
  {
   "cell_type": "code",
   "execution_count": 25,
   "metadata": {},
   "outputs": [
    {
     "data": {
      "text/plain": [
       "['apples', 'bananas', 'cherry', 'oranges']"
      ]
     },
     "execution_count": 25,
     "metadata": {},
     "output_type": "execute_result"
    }
   ],
   "source": [
    "pre_order_with_recursion(dfs)"
   ]
  },
  {
   "cell_type": "code",
   "execution_count": null,
   "metadata": {},
   "outputs": [],
   "source": []
  }
 ],
 "metadata": {
  "kernelspec": {
   "display_name": "Python 3.8.10 64-bit",
   "language": "python",
   "name": "python3"
  },
  "language_info": {
   "codemirror_mode": {
    "name": "ipython",
    "version": 3
   },
   "file_extension": ".py",
   "mimetype": "text/x-python",
   "name": "python",
   "nbconvert_exporter": "python",
   "pygments_lexer": "ipython3",
   "version": "3.8.10"
  },
  "orig_nbformat": 4,
  "vscode": {
   "interpreter": {
    "hash": "31f2aee4e71d21fbe5cf8b01ff0e069b9275f58929596ceb00d14d90e3e16cd6"
   }
  }
 },
 "nbformat": 4,
 "nbformat_minor": 2
}
