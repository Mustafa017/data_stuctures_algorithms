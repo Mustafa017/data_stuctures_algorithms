{
 "cells": [
  {
   "cell_type": "code",
   "execution_count": 1,
   "metadata": {},
   "outputs": [],
   "source": [
    "class Node(object):\n",
    "    def __init__(self, value=None):\n",
    "        self.value = value\n",
    "        self.left = None\n",
    "        self.right = None\n",
    "\n",
    "    def get_value(self):\n",
    "        return self.value\n",
    "\n",
    "    def set_value(self, value):\n",
    "        self.value = value\n",
    "\n",
    "    def set_left_child(self, node):\n",
    "        self.left = node\n",
    "\n",
    "    def set_right_child(self, node):\n",
    "        self.right = node\n",
    "\n",
    "    def get_left_child(self):\n",
    "        return self.left\n",
    "\n",
    "    def get_right_child(self):\n",
    "        return self.right\n",
    "\n",
    "    def has_left_child(self):\n",
    "        return self.left != None\n",
    "\n",
    "    def has_right_child(self):\n",
    "        return self.right != None\n",
    "\n",
    "    def __repr__(self):\n",
    "        return f'Node({self.get_value()})'\n",
    "        \n",
    "    def __str__(self):\n",
    "        return f'Node({self.get_value()})'\n",
    "\n",
    "class Tree(object):\n",
    "    def __init__(self, node):\n",
    "        self.root = node\n",
    "    \n",
    "    def get_root(self):\n",
    "        return self.root"
   ]
  },
  {
   "cell_type": "code",
   "execution_count": 2,
   "metadata": {},
   "outputs": [],
   "source": [
    "bfs = Tree(Node('apples'))\n",
    "bfs.get_root().set_left_child(Node('bananas'))\n",
    "bfs.get_root().set_right_child(Node('cherry'))\n",
    "bfs.get_root().get_left_child().set_left_child(Node('dates'))"
   ]
  },
  {
   "cell_type": "code",
   "execution_count": 3,
   "metadata": {},
   "outputs": [
    {
     "data": {
      "text/plain": [
       "Node(cherry)"
      ]
     },
     "execution_count": 3,
     "metadata": {},
     "output_type": "execute_result"
    }
   ],
   "source": [
    "bfs.get_root().get_right_child()"
   ]
  },
  {
   "cell_type": "code",
   "execution_count": 4,
   "metadata": {},
   "outputs": [],
   "source": [
    "from collections import deque\n",
    "class Queue:\n",
    "    def __init__(self):\n",
    "        self.q = deque()\n",
    "\n",
    "    def enqueue(self, value):\n",
    "        self.q.appendleft(value)\n",
    "\n",
    "    def dequeue(self):\n",
    "        if len(self.q) > 0:\n",
    "            return self.q.pop()\n",
    "        else:\n",
    "            return None\n",
    "    \n",
    "    def is_empty(self):\n",
    "        return len(self.q) == 0\n",
    "\n",
    "    def __len__(self):\n",
    "        return len(self.q)\n",
    "\n",
    "    def __repr__(self):\n",
    "        if len(self.q) > 0:\n",
    "            s = \"<-- Enqueue Here -->\\n\"\n",
    "            s += \"\\n__________________\\n\".join([str(item) for item in self.q])\n",
    "            s += \"\\n<-- Dequeue Here -->\\n\"\n",
    "            return s\n",
    "        else:\n",
    "            return \"<Queue empty>\""
   ]
  },
  {
   "cell_type": "code",
   "execution_count": 5,
   "metadata": {},
   "outputs": [
    {
     "data": {
      "text/plain": [
       "<-- Enqueue Here -->\n",
       "oranges\n",
       "__________________\n",
       "apples\n",
       "__________________\n",
       "bananas\n",
       "<-- Dequeue Here -->"
      ]
     },
     "execution_count": 5,
     "metadata": {},
     "output_type": "execute_result"
    }
   ],
   "source": [
    "q = Queue()\n",
    "q.enqueue('bananas')\n",
    "q.enqueue('apples')\n",
    "q.enqueue('oranges')\n",
    "q"
   ]
  },
  {
   "cell_type": "code",
   "execution_count": 6,
   "metadata": {},
   "outputs": [
    {
     "name": "stdout",
     "output_type": "stream",
     "text": [
      "bananas\n"
     ]
    },
    {
     "data": {
      "text/plain": [
       "<-- Enqueue Here -->\n",
       "oranges\n",
       "__________________\n",
       "apples\n",
       "<-- Dequeue Here -->"
      ]
     },
     "execution_count": 6,
     "metadata": {},
     "output_type": "execute_result"
    }
   ],
   "source": [
    "print(q.dequeue())\n",
    "q"
   ]
  },
  {
   "cell_type": "code",
   "execution_count": 7,
   "metadata": {},
   "outputs": [
    {
     "data": {
      "text/plain": [
       "<-- Enqueue Here -->\n",
       "Node(apples)\n",
       "<-- Dequeue Here -->"
      ]
     },
     "execution_count": 7,
     "metadata": {},
     "output_type": "execute_result"
    }
   ],
   "source": [
    "visited = []\n",
    "q = Queue()\n",
    "node = bfs.get_root()\n",
    "q.enqueue(node)\n",
    "q"
   ]
  },
  {
   "cell_type": "code",
   "execution_count": 8,
   "metadata": {},
   "outputs": [
    {
     "data": {
      "text/plain": [
       "<-- Enqueue Here -->\n",
       "Node(cherry)\n",
       "__________________\n",
       "Node(bananas)\n",
       "<-- Dequeue Here -->"
      ]
     },
     "execution_count": 8,
     "metadata": {},
     "output_type": "execute_result"
    }
   ],
   "source": [
    "node = q.dequeue()\n",
    "visited.append(node)\n",
    "if node.has_left_child():\n",
    "    q.enqueue(node.get_left_child())\n",
    "if node.has_right_child():\n",
    "    q.enqueue(node.get_right_child())\n",
    "\n",
    "q"
   ]
  },
  {
   "cell_type": "code",
   "execution_count": 11,
   "metadata": {},
   "outputs": [],
   "source": [
    "def breadth_first_search(tree):\n",
    "    visited_order = list()\n",
    "    queue = Queue()\n",
    "    node = tree.get_root()\n",
    "    queue.enqueue(node)\n",
    "\n",
    "    while not queue.is_empty():\n",
    "        node = queue.dequeue()\n",
    "        \n",
    "        visited_order.append(node.get_value())\n",
    "        \n",
    "        if node.has_left_child():\n",
    "            queue.enqueue(node.get_left_child())\n",
    "\n",
    "        if node.has_right_child():\n",
    "            queue.enqueue(node.get_right_child())\n",
    "            \n",
    "    return visited_order"
   ]
  },
  {
   "cell_type": "code",
   "execution_count": 12,
   "metadata": {},
   "outputs": [
    {
     "data": {
      "text/plain": [
       "['apples', 'bananas', 'cherry', 'dates']"
      ]
     },
     "execution_count": 12,
     "metadata": {},
     "output_type": "execute_result"
    }
   ],
   "source": [
    "breadth_first_search(bfs)"
   ]
  },
  {
   "cell_type": "code",
   "execution_count": null,
   "metadata": {},
   "outputs": [],
   "source": []
  }
 ],
 "metadata": {
  "kernelspec": {
   "display_name": "Python 3.8.10 64-bit",
   "language": "python",
   "name": "python3"
  },
  "language_info": {
   "codemirror_mode": {
    "name": "ipython",
    "version": 3
   },
   "file_extension": ".py",
   "mimetype": "text/x-python",
   "name": "python",
   "nbconvert_exporter": "python",
   "pygments_lexer": "ipython3",
   "version": "3.8.10"
  },
  "orig_nbformat": 4,
  "vscode": {
   "interpreter": {
    "hash": "31f2aee4e71d21fbe5cf8b01ff0e069b9275f58929596ceb00d14d90e3e16cd6"
   }
  }
 },
 "nbformat": 4,
 "nbformat_minor": 2
}
